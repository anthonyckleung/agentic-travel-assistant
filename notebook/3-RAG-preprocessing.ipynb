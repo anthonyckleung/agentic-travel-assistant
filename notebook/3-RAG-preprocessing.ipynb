{
 "cells": [
  {
   "cell_type": "markdown",
   "id": "012827ec",
   "metadata": {},
   "source": [
    "# RAG Preprocessing"
   ]
  },
  {
   "cell_type": "code",
   "execution_count": 64,
   "id": "62d2d985",
   "metadata": {},
   "outputs": [],
   "source": [
    "from openai import OpenAI\n",
    "import os\n",
    "import psycopg2\n",
    "import instructor\n",
    "from pydantic import BaseModel\n",
    "import openai\n",
    "import sqlvalidator\n",
    "from langchain_community.utilities import SQLDatabase\n",
    "from langchain.chains import create_sql_query_chain"
   ]
  },
  {
   "cell_type": "code",
   "execution_count": 65,
   "id": "94b4fc7a",
   "metadata": {},
   "outputs": [],
   "source": [
    "postgres_username = os.getenv(\"POSTGRES_USERNAME\")\n",
    "postgres_pwd = os.getenv(\"POSTGRES_PASSWORD\")\n",
    "\n",
    "client = instructor.from_openai(OpenAI())"
   ]
  },
  {
   "cell_type": "code",
   "execution_count": 66,
   "id": "0f7553d9",
   "metadata": {},
   "outputs": [],
   "source": [
    "conn = psycopg2.connect(\n",
    "    dbname=\"postgresdb\",\n",
    "    user=postgres_username,\n",
    "    password=postgres_pwd,\n",
    "    host=\"host.docker.internal\",  # e.g., \"localhost\"\n",
    "    port=\"5433\"        # default PostgreSQL port\n",
    ")\n",
    "cursor = conn.cursor()"
   ]
  },
  {
   "cell_type": "code",
   "execution_count": 8,
   "id": "f6b4d526",
   "metadata": {},
   "outputs": [],
   "source": [
    "sql_query = \"SELECT * FROM us_attractions LIMIT 5;\"\n",
    "\n",
    "cursor.execute(sql_query)\n",
    "rows = cursor.fetchall()"
   ]
  },
  {
   "cell_type": "code",
   "execution_count": 14,
   "id": "555e1493",
   "metadata": {},
   "outputs": [],
   "source": [
    "def remove_vector_like_elements(tuples_list):\n",
    "    new_list = []\n",
    "    for tpl in tuples_list:\n",
    "        filtered_tpl = tuple(\n",
    "            x for x in tpl \n",
    "            if not (isinstance(x, str) and x.startswith('[') and x.endswith(']'))\n",
    "        )\n",
    "        new_list.append(filtered_tpl)\n",
    "    return new_list"
   ]
  },
  {
   "cell_type": "code",
   "execution_count": 15,
   "id": "32fdd3b2",
   "metadata": {},
   "outputs": [
    {
     "data": {
      "text/plain": [
       "(1331,\n",
       " 'Waterfall Garden',\n",
       " 'Park',\n",
       " 4.6,\n",
       " 1054.0,\n",
       " 'Park',\n",
       " 'Waterfall Garden, 219 2nd Ave S, Seattle, WA 98104',\n",
       " 'Seattle',\n",
       " 'USA',\n",
       " 'WA',\n",
       " None,\n",
       " 'Nature',\n",
       " 4848.4,\n",
       " 4.66,\n",
       " 'Manchester, Seattle')"
      ]
     },
     "execution_count": 15,
     "metadata": {},
     "output_type": "execute_result"
    }
   ],
   "source": [
    "new_list = remove_vector_like_elements(rows)\n",
    "new_list[0]"
   ]
  },
  {
   "cell_type": "code",
   "execution_count": 68,
   "id": "7069aa00",
   "metadata": {},
   "outputs": [],
   "source": [
    "class SQLQuery(BaseModel):\n",
    "    sql_command: str\n",
    "\n",
    "\n",
    "class RAGGenerationResponse(BaseModel):\n",
    "    answer: str"
   ]
  },
  {
   "cell_type": "code",
   "execution_count": null,
   "id": "36b48b91",
   "metadata": {},
   "outputs": [],
   "source": [
    "def is_valid_sql(query):\n",
    "    parsed = sqlvalidator.parse(query)\n",
    "    return parsed.is_valid()\n",
    "\n",
    "\n",
    "def build_sql_generate_prompt(user_query):\n",
    "    prompt = f\"\"\"\n",
    "    You are a PostgreSQL expert. You only respond with PostgreSQL commands for the question asked by the user.\n",
    "\n",
    "    You are given a database schema:\n",
    "        Schema: public\n",
    "        Table: us_attractions\n",
    "        Columns:\n",
    "        - id INTEGER PRIMARY KEY\n",
    "        - name VARCHAR(250)\n",
    "        - main_category VARCHAR(250)\n",
    "        - rating REAL\n",
    "        - reviews REAL\n",
    "        - categories VARCHAR(250)\n",
    "        - address VARCHAR(250)\n",
    "        - city VARCHAR(250)\n",
    "        - country VARCHAR(250)\n",
    "        - state VARCHAR(250)\n",
    "        - zipcode INTEGER\n",
    "        - broader_category VARCHAR(250)\n",
    "        - weighted_score REAL\n",
    "        - weighted_average REAL\n",
    "        - all_cities VARCHAR(250)\n",
    "\n",
    "    The us_attractions table only has information for USA only. The values under the country column are all 'USA'. \n",
    "\n",
    "    Translate the following user question into PostgreSQL query statement:\n",
    "\n",
    "    \"{user_query}\"\n",
    "    Instructions:\n",
    "    - Write PostgreSQL query using the \"public\" schema for all tables (e.g., public.us_attraction).\n",
    "    - If the US State label is given in full, search for the abbreviated form in all caps.\n",
    "    - Always perform LOWER() on all string type comparisons, filtering, etc.\n",
    "    - If user does not specify the number of top-ranked records, provide up to 5 records.\n",
    "    - If you cannot respond a PostgreSQL command respond with 'Sorry, no relevant data was found in the database for your query.'. Don't respond with anything else.\n",
    "    \"\"\"\n",
    "    return prompt\n",
    "\n",
    "\n",
    "def build_rag_response_prompt(rows, user_question, sql_query):\n",
    "    formatted_rows = \"\\n\".join([\", \".join(map(str, row)) for row in rows])\n",
    "    # print(formatted_rows)\n",
    "\n",
    "    # Create a prompt for the LLM\n",
    "    prompt = f'''Here are the SQL query results:\\n{formatted_rows}\n",
    "\n",
    "    Generated by this SQL query: {sql_query}\\n\n",
    "    '''\n",
    "    if user_question:\n",
    "        prompt += f\"Based on these results, answer the question: {user_question}\"\n",
    "\n",
    "    return prompt\n",
    "\n",
    "\n",
    "def generate_sql_query(prompt):\n",
    "    response, _ = client.chat.completions.create_with_completion(\n",
    "        model=\"gpt-4.1-mini\",\n",
    "        response_model=SQLQuery,\n",
    "        messages=[{\"role\":\"user\", \"content\": prompt}],\n",
    "        temperature=0\n",
    "    )\n",
    "    return response\n",
    "\n",
    "\n",
    "def retrieve_from_postgres(cursor, sql_query):\n",
    "    cursor.execute(sql_query)\n",
    "    rows = cursor.fetchall()\n",
    "    return rows\n",
    "\n",
    "\n",
    "def generate_answer(prompt):\n",
    "    response, _ = client.chat.completions.create_with_completion(\n",
    "        model=\"gpt-4.1-mini\",\n",
    "        response_model=RAGGenerationResponse,\n",
    "        messages=[{\"role\":\"user\", \"content\": prompt}],\n",
    "        temperature=0.\n",
    "    )\n",
    "    return response.answer\n",
    "\n",
    "\n"
   ]
  },
  {
   "cell_type": "code",
   "execution_count": 82,
   "id": "72cb07c7",
   "metadata": {},
   "outputs": [],
   "source": [
    "def get_embedding(text):\n",
    "    result = openai.embeddings.create(\n",
    "        input=[text],\n",
    "        model=\"text-embedding-3-small\"\n",
    "    )\n",
    "    embedding = result.data[0].embedding \n",
    "    return embedding\n",
    "\n",
    "\n",
    "def generate_sql_command(question):\n",
    "    response, _ = client.chat.completions.create_with_completion(\n",
    "        model=\"gpt-4.1-mini\",\n",
    "        response_model=SQLQuery,\n",
    "        messages=[{\"role\":\"user\", \"content\": question}],\n",
    "        temperature=0\n",
    "    )\n",
    "    return response\n",
    "\n",
    "\n",
    "def execute_sql_query(cursor, sql_query):\n",
    "    rows = list()\n",
    "    if is_valid_sql(sql_query):\n",
    "        cursor.execute(sql_query)\n",
    "        rows = cursor.fetchall()\n",
    "    return rows\n",
    "\n",
    "\n",
    "def execute_sql_similarity_match(cursor, input_embedding, top_k=5):\n",
    "    vector_search_sql = \"SELECT * FROM attraction_table ORDER BY embedding <-> %s::vector LIMIT %s\"\n",
    "    cursor.execute(vector_search_sql, (input_embedding, top_k))\n",
    "    rows = cursor.fetchall()\n",
    "    return rows"
   ]
  },
  {
   "cell_type": "code",
   "execution_count": 83,
   "id": "677d8969",
   "metadata": {},
   "outputs": [],
   "source": [
    "def rag_pipeline(user_question, psycopg_cursor):\n",
    "    query_result = list()\n",
    "    sql_prompt = build_sql_generate_prompt(user_question)\n",
    "    text2sql_response = generate_sql_command(sql_prompt)\n",
    "    print(text2sql_response)\n",
    "    if is_valid_sql(text2sql_response.sql_command):\n",
    "        query_result = retrieve_from_postgres(psycopg_cursor, text2sql_response.sql_command)\n",
    "        formatted_query_result = [\", \".join(map(str, row)) for row in query_result]\n",
    "        if not query_result:\n",
    "            # No data found guardrail\n",
    "            answer = \"Sorry, no relevant data was found in the database for your query.\"\n",
    "        else:\n",
    "            response_prompt = build_rag_response_prompt(query_result, user_question, text2sql_response.sql_command)\n",
    "            answer = generate_answer(response_prompt)\n",
    "    else:\n",
    "        answer = text2sql_response\n",
    "    \n",
    "    final_result = {\n",
    "        \"answer\": answer,\n",
    "        \"question\": user_question,\n",
    "        # \"retrieved_context_ids\": [row[0] for row in query_result],\n",
    "        \"retrieved_context\": formatted_query_result,\n",
    "        \"generated_sql\": text2sql_response.sql_command\n",
    "    }\n",
    "    return final_result"
   ]
  },
  {
   "cell_type": "code",
   "execution_count": 86,
   "id": "1c9b738c",
   "metadata": {},
   "outputs": [],
   "source": [
    "user_question = \"Are there theme parks suitable for family outings in San Diego?\"\n",
    "sql_prompt = build_sql_generate_prompt(user_question)\n",
    "sql_query = generate_sql_query(sql_prompt)\n",
    "# answer = rag_pipeline(user_question, cursor)"
   ]
  },
  {
   "cell_type": "code",
   "execution_count": 87,
   "id": "be81f26d",
   "metadata": {},
   "outputs": [
    {
     "data": {
      "text/plain": [
       "SQLQuery(sql_command=\"SELECT * FROM public.us_attractions WHERE LOWER(city) = 'san diego' AND LOWER(categories) LIKE '%theme park%' AND LOWER(main_category) LIKE '%family%' ;\")"
      ]
     },
     "execution_count": 87,
     "metadata": {},
     "output_type": "execute_result"
    }
   ],
   "source": [
    "sql_query"
   ]
  },
  {
   "cell_type": "code",
   "execution_count": 80,
   "id": "41209065",
   "metadata": {},
   "outputs": [
    {
     "data": {
      "text/plain": [
       "{'answer': 'Some top-rated tourist attractions in Savannah, Georgia include:\\n1. Hearse Ghost Tours (Rating: 4.9, Reviews: 1912) - 1410 E Broad St, Savannah, GA 31401\\n2. Pin Point Heritage Museum (Rating: 4.9, Reviews: 436) - 9924 Pin Point Ave, Savannah, GA 31406\\n3. SCADstory (Rating: 4.9, Reviews: 81) - 342 Bull St, Savannah, GA 31401\\n4. Forsyth Park (Rating: 4.8, Reviews: 16538) - Savannah, GA 31401\\n5. The Cathedral Basilica of St. John the Baptist (Rating: 4.8, Reviews: 5911) - 222 E Harris St, Savannah, GA 31401\\n6. Fort Pulaski National Monument (Rating: 4.8, Reviews: 5221) - 101 Fort Pulaski Rd, Savannah, GA\\n7. Fountain at Forsyth Park (Rating: 4.8, Reviews: 4234) - 1 W Gaston St, Savannah, GA 31401\\n8. Graveface Museum (Rating: 4.8, Reviews: 642) - 410 E Lower, Factors Walk, Savannah, GA 31401\\n9. Monterey Square (Rating: 4.8, Reviews: 586) - 11 W Gordon St, Savannah, GA 31401\\n10. Madison Square (Rating: 4.8, Reviews: 504) - 332 Bull St, Savannah, GA 31401',\n",
       " 'question': 'What are some top-rated tourist attractions in Savannah, Georgia?',\n",
       " 'retrieved_context': ['Hearse Ghost Tours, 4.9, 1912.0, Hearse Ghost Tours, 1410 E Broad St, Savannah, GA 31401',\n",
       "  'Pin Point Heritage Museum, 4.9, 436.0, Pin Point Heritage Museum, 9924 Pin Point Ave, Savannah, GA 31406',\n",
       "  'SCADstory, 4.9, 81.0, SCADstory, 342 Bull St, Savannah, GA 31401',\n",
       "  'Forsyth Park, 4.8, 16538.0, Forsyth Park, Savannah, GA 31401',\n",
       "  'The Cathedral Basilica of St. John the Baptist, 4.8, 5911.0, The Cathedral Basilica of St. John the Baptist, 222 E Harris St, Savannah, GA 31401',\n",
       "  'Fort Pulaski National Monument, 4.8, 5221.0, Fort Pulaski National Monument, 101 Fort Pulaski Rd, Savannah, GA',\n",
       "  'Fountain at Forsyth Park, 4.8, 4234.0, Fountain at Forsyth Park, 1 W Gaston St, Savannah, GA 31401',\n",
       "  'Graveface Museum, 4.8, 642.0, Graveface Museum, 410 E Lower, Factors Walk, Savannah, GA 31401',\n",
       "  'Monterey Square, 4.8, 586.0, Monterey Square, 11 W Gordon St, Savannah, GA 31401',\n",
       "  'Madison Square, 4.8, 504.0, Madison Square, 332 Bull St, Savannah, GA 31401'],\n",
       " 'generated_sql': \"SELECT name, rating, reviews, address FROM public.us_attractions WHERE city = 'Savannah' AND state = 'GA' ORDER BY rating DESC, reviews DESC LIMIT 10;\"}"
      ]
     },
     "execution_count": 80,
     "metadata": {},
     "output_type": "execute_result"
    }
   ],
   "source": [
    "answer"
   ]
  },
  {
   "cell_type": "code",
   "execution_count": 44,
   "id": "1668debc",
   "metadata": {},
   "outputs": [
    {
     "data": {
      "text/plain": [
       "__main__.SQLQuery"
      ]
     },
     "execution_count": 44,
     "metadata": {},
     "output_type": "execute_result"
    }
   ],
   "source": [
    "type(sql_query)"
   ]
  },
  {
   "cell_type": "code",
   "execution_count": 45,
   "id": "1b497e8e",
   "metadata": {},
   "outputs": [
    {
     "data": {
      "text/plain": [
       "\"SELECT name, rating, reviews, address, city, state, zipcode FROM public.us_attractions WHERE city = 'Savannah' AND state = 'GA' ORDER BY rating DESC, reviews DESC LIMIT 10;\""
      ]
     },
     "execution_count": 45,
     "metadata": {},
     "output_type": "execute_result"
    }
   ],
   "source": [
    "sql_query.sql_query"
   ]
  },
  {
   "cell_type": "code",
   "execution_count": 61,
   "id": "85434529",
   "metadata": {},
   "outputs": [
    {
     "data": {
      "text/plain": [
       "[(24,\n",
       "  'Pin Point Heritage Museum',\n",
       "  'Museum',\n",
       "  4.9,\n",
       "  436.0,\n",
       "  'Museum, Heritage museum, Tourist attraction',\n",
       "  'Pin Point Heritage Museum, 9924 Pin Point Ave, Savannah, GA 31406',\n",
       "  'Savannah',\n",
       "  'USA',\n",
       "  'GA',\n",
       "  None,\n",
       "  'Cultural',\n",
       "  2136.4,\n",
       "  4.53,\n",
       "  'Atlanta, Augusta, Chattanooga, Savannah'),\n",
       " (39,\n",
       "  'SCADstory',\n",
       "  'Tourist attraction',\n",
       "  4.9,\n",
       "  81.0,\n",
       "  'Tourist attraction, Amusement park ride, Museum, Private university',\n",
       "  'SCADstory, 342 Bull St, Savannah, GA 31401',\n",
       "  'Savannah',\n",
       "  'USA',\n",
       "  'GA',\n",
       "  None,\n",
       "  'Entertainment',\n",
       "  396.9,\n",
       "  4.59,\n",
       "  'Atlanta, Augusta, Chattanooga, Savannah'),\n",
       " (9,\n",
       "  'Hearse Ghost Tours',\n",
       "  'Tourist attraction',\n",
       "  4.9,\n",
       "  1912.0,\n",
       "  'Tourist attraction, Entertainment agency, Tour operator, Travel clinic',\n",
       "  'Hearse Ghost Tours, 1410 E Broad St, Savannah, GA 31401',\n",
       "  'Savannah',\n",
       "  'USA',\n",
       "  'GA',\n",
       "  None,\n",
       "  'Entertainment',\n",
       "  9368.8,\n",
       "  4.59,\n",
       "  'Atlanta, Augusta, Chattanooga, Savannah'),\n",
       " (29,\n",
       "  'Beach Institute African American Cultural Center',\n",
       "  'Museum',\n",
       "  4.8,\n",
       "  266.0,\n",
       "  'Museum, Cultural center, Gift shop, History museum, Tourist attraction',\n",
       "  'Beach Institute African American Cultural Center, 502 E Harris St, Savannah, GA 31401',\n",
       "  'Savannah',\n",
       "  'USA',\n",
       "  'GA',\n",
       "  None,\n",
       "  'Cultural',\n",
       "  1276.8,\n",
       "  4.53,\n",
       "  'Atlanta, Augusta, Chattanooga, Savannah'),\n",
       " (2,\n",
       "  'Fort Pulaski National Monument',\n",
       "  'Monument',\n",
       "  4.8,\n",
       "  5221.0,\n",
       "  'Monument, Historical place, Historical landmark, Tourist attraction',\n",
       "  'Fort Pulaski National Monument, 101 Fort Pulaski Rd, Savannah, GA',\n",
       "  'Savannah',\n",
       "  'USA',\n",
       "  'GA',\n",
       "  None,\n",
       "  'Cultural',\n",
       "  25060.8,\n",
       "  4.53,\n",
       "  'Atlanta, Augusta, Chattanooga, Savannah'),\n",
       " (26,\n",
       "  \"Savannah's Waterfront\",\n",
       "  'Tourist attraction',\n",
       "  4.8,\n",
       "  400.0,\n",
       "  'Tourist attraction, Non-profit organization',\n",
       "  \"Savannah's Waterfront, 1 W River St, Savannah, GA 31401\",\n",
       "  'Savannah',\n",
       "  'USA',\n",
       "  'GA',\n",
       "  None,\n",
       "  'Entertainment',\n",
       "  1920.0,\n",
       "  4.59,\n",
       "  'Atlanta, Augusta, Chattanooga, Savannah'),\n",
       " (1,\n",
       "  'The Cathedral Basilica of St. John the Baptist',\n",
       "  'Catholic cathedral',\n",
       "  4.8,\n",
       "  5911.0,\n",
       "  'Catholic cathedral, Catholic church, Tourist attraction',\n",
       "  'The Cathedral Basilica of St. John the Baptist, 222 E Harris St, Savannah, GA 31401',\n",
       "  'Savannah',\n",
       "  'USA',\n",
       "  'GA',\n",
       "  None,\n",
       "  'Religious',\n",
       "  28372.8,\n",
       "  4.8,\n",
       "  'Atlanta, Augusta, Chattanooga, Savannah'),\n",
       " (0,\n",
       "  'Forsyth Park',\n",
       "  'Park',\n",
       "  4.8,\n",
       "  16538.0,\n",
       "  'Park, Tourist attraction',\n",
       "  'Forsyth Park, Savannah, GA 31401',\n",
       "  'Savannah',\n",
       "  'USA',\n",
       "  'GA',\n",
       "  None,\n",
       "  'Nature',\n",
       "  79382.4,\n",
       "  4.67,\n",
       "  'Atlanta, Augusta, Chattanooga, Savannah'),\n",
       " (3,\n",
       "  'Fountain at Forsyth Park',\n",
       "  'Historical landmark',\n",
       "  4.8,\n",
       "  4234.0,\n",
       "  'Historical landmark, Tourist attraction',\n",
       "  'Fountain at Forsyth Park, 1 W Gaston St, Savannah, GA 31401',\n",
       "  'Savannah',\n",
       "  'USA',\n",
       "  'GA',\n",
       "  None,\n",
       "  'Cultural',\n",
       "  20323.2,\n",
       "  4.53,\n",
       "  'Atlanta, Augusta, Chattanooga, Savannah'),\n",
       " (21,\n",
       "  'Graveface Museum',\n",
       "  'Museum',\n",
       "  4.8,\n",
       "  642.0,\n",
       "  'Museum',\n",
       "  'Graveface Museum, 410 E Lower, Factors Walk, Savannah, GA 31401',\n",
       "  'Savannah',\n",
       "  'USA',\n",
       "  'GA',\n",
       "  None,\n",
       "  'Cultural',\n",
       "  3081.6,\n",
       "  4.53,\n",
       "  'Atlanta, Augusta, Chattanooga, Savannah')]"
      ]
     },
     "execution_count": 61,
     "metadata": {},
     "output_type": "execute_result"
    }
   ],
   "source": [
    "answer['retrieved_context']"
   ]
  },
  {
   "cell_type": "code",
   "execution_count": null,
   "id": "9be13239",
   "metadata": {},
   "outputs": [],
   "source": []
  }
 ],
 "metadata": {
  "kernelspec": {
   "display_name": ".venv",
   "language": "python",
   "name": "python3"
  },
  "language_info": {
   "codemirror_mode": {
    "name": "ipython",
    "version": 3
   },
   "file_extension": ".py",
   "mimetype": "text/x-python",
   "name": "python",
   "nbconvert_exporter": "python",
   "pygments_lexer": "ipython3",
   "version": "3.12.11"
  }
 },
 "nbformat": 4,
 "nbformat_minor": 5
}
